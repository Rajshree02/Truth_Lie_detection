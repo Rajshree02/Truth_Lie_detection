{
 "cells": [
  {
   "cell_type": "code",
   "execution_count": 8,
   "id": "dfc6e121",
   "metadata": {},
   "outputs": [],
   "source": [
    "import cv2\n",
    "import os\n",
    "\n",
    "# Load the cascade\n",
    "face_cascade = cv2.CascadeClassifier(cv2.data.haarcascades + 'haarcascade_frontalface_alt2.xml')\n",
    "\n",
    "# creating a folder to store cropped images\n",
    "if not os.path.exists('cropped_truth_data'):\n",
    "    os.makedirs('cropped_truth_data')\n",
    "    \n",
    "currentframe = 0\n",
    "for i in os.listdir('Truth_data'):\n",
    "    # Read the input image\n",
    "    img = cv2.imread(os.path.join('truth_data',i))\n",
    "  \n",
    "    # Convert into grayscale\n",
    "    gray = cv2.cvtColor(img, cv2.COLOR_BGR2GRAY)\n",
    "    \n",
    "    # Detect faces\n",
    "    faces = face_cascade.detectMultiScale(gray, 1.1, 4)\n",
    "    \n",
    "    # Draw rectangle around the faces and crop the faces\n",
    "    for (x, y, w, h) in faces:\n",
    "        cv2.rectangle(img, (x, y), (x+w, y+h), (0, 0, 255), 2)\n",
    "        faces = img[y:y + h, x:x + w]\n",
    "        cv2.imwrite('./cropped_truth_data/frame' + str(currentframe) + '.jpg', faces)\n",
    "    \n",
    "    currentframe +=1"
   ]
  },
  {
   "cell_type": "code",
   "execution_count": 12,
   "id": "b572115d",
   "metadata": {},
   "outputs": [],
   "source": [
    "import os\n",
    "    \n",
    "currentframe = 0\n",
    "for i in os.listdir('cropped_lie_data'):\n",
    "    os.rename('cropped_lie_data/'+i,'cropped_lie_data/face' + str(currentframe) + '.jpg')\n",
    "    currentframe +=1"
   ]
  },
  {
   "cell_type": "code",
   "execution_count": null,
   "id": "72d5638b",
   "metadata": {},
   "outputs": [],
   "source": []
  }
 ],
 "metadata": {
  "kernelspec": {
   "display_name": "Python 3 (ipykernel)",
   "language": "python",
   "name": "python3"
  },
  "language_info": {
   "codemirror_mode": {
    "name": "ipython",
    "version": 3
   },
   "file_extension": ".py",
   "mimetype": "text/x-python",
   "name": "python",
   "nbconvert_exporter": "python",
   "pygments_lexer": "ipython3",
   "version": "3.9.13"
  }
 },
 "nbformat": 4,
 "nbformat_minor": 5
}
