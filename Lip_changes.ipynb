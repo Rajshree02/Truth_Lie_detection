{
 "cells": [
  {
   "cell_type": "code",
   "execution_count": 1,
   "id": "3778e352",
   "metadata": {},
   "outputs": [],
   "source": [
    "import pandas as pd\n",
    "import matplotlib.pyplot as plt\n",
    "import numpy as np\n",
    "import seaborn as sns\n",
    "import cv2\n",
    "from IPython.display import display\n",
    "from skimage.feature import hog\n",
    "from skimage import data,exposure\n",
    "from PIL import Image\n"
   ]
  },
  {
   "cell_type": "code",
   "execution_count": 2,
   "id": "590f07a4",
   "metadata": {},
   "outputs": [
    {
     "name": "stdout",
     "output_type": "stream",
     "text": [
      "0.20.0\n"
     ]
    }
   ],
   "source": [
    "import skimage\n",
    "print(skimage.__version__)"
   ]
  },
  {
   "cell_type": "markdown",
   "id": "9bf5852c",
   "metadata": {},
   "source": [
    "### Truth Analysis"
   ]
  },
  {
   "cell_type": "code",
   "execution_count": 17,
   "id": "532ede44",
   "metadata": {},
   "outputs": [
    {
     "data": {
      "image/png": "[encoded data removed]",
      "text/plain": [
       "<PIL.Image.Image image mode=RGB size=91x24>"
      ]
     },
     "execution_count": 17,
     "metadata": {},
     "output_type": "execute_result"
    }
   ],
   "source": [
    "image = Image.open(\"E:/ML/KLEOS_Hackathon/mystuff/truth/face0.jpg\")\n",
    "\n",
    "width, height = image.size\n",
    "\n",
    "left =width/6\n",
    "top = height/1.5\n",
    "right =2*width/2.5\n",
    "bottom =  height / 1.2\n",
    "Timage=[]\n",
    "\n",
    "\n",
    "for i in range(0,1420):\n",
    "    result = Image.open(\"E:/ML/KLEOS_Hackathon/mystuff/truth/face\"+str(i)+\".jpg\")\n",
    "    newsize=(144,144)  \n",
    "    result=result.resize(newsize)\n",
    "    result = result.crop((left, top, right, bottom))\n",
    "    Timage.append(result)\n",
    "#     break;\n",
    "\n",
    "result\n"
   ]
  },
  {
   "cell_type": "code",
   "execution_count": 18,
   "id": "369cff1b",
   "metadata": {},
   "outputs": [
    {
     "data": {
      "image/png": "[encoded data removed]",
      "text/plain": [
       "<PIL.Image.Image image mode=RGB size=91x24>"
      ]
     },
     "execution_count": 18,
     "metadata": {},
     "output_type": "execute_result"
    }
   ],
   "source": [
    "Timage[100]"
   ]
  },
  {
   "cell_type": "code",
   "execution_count": 26,
   "id": "9332fb8b",
   "metadata": {},
   "outputs": [
    {
     "data": {
      "image/png": "[encoded data removed]",
      "text/plain": [
       "<PIL.Image.Image image mode=RGB size=91x24>"
      ]
     },
     "execution_count": 26,
     "metadata": {},
     "output_type": "execute_result"
    }
   ],
   "source": [
    "Timage[322]"
   ]
  },
  {
   "cell_type": "code",
   "execution_count": null,
   "id": "8c6f8918",
   "metadata": {},
   "outputs": [],
   "source": []
  }
 ],
 "metadata": {
  "kernelspec": {
   "display_name": "Python 3 (ipykernel)",
   "language": "python",
   "name": "python3"
  },
  "language_info": {
   "codemirror_mode": {
    "name": "ipython",
    "version": 3
   },
   "file_extension": ".py",
   "mimetype": "text/x-python",
   "name": "python",
   "nbconvert_exporter": "python",
   "pygments_lexer": "ipython3",
   "version": "3.10.6"
  }
 },
 "nbformat": 4,
 "nbformat_minor": 5
}
