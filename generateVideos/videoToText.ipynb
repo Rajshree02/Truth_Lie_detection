{
 "cells": [
  {
   "cell_type": "code",
   "execution_count": 1,
   "metadata": {},
   "outputs": [],
   "source": [
    "import os\n",
    "import sys\n",
    "import wave\n",
    "import json\n",
    "\n",
    "from vosk import Model, KaldiRecognizer, SetLogLevel\n",
    "# !pip install vosk\n",
    "import Word\n",
    "\n",
    "SetLogLevel(0)"
   ]
  },
  {
   "cell_type": "code",
   "execution_count": 2,
   "metadata": {},
   "outputs": [
    {
     "name": "stdout",
     "output_type": "stream",
     "text": [
      "Reading your vosk model './model/vosk-model-en-us-0.22/vosk-model-en-us-0.22'...\n",
      "'./model/vosk-model-en-us-0.22/vosk-model-en-us-0.22' model was successfully read\n"
     ]
    }
   ],
   "source": [
    "# path to vosk model downloaded from\n",
    "# https://alphacephei.com/vosk/models\n",
    "model_path = \"./model/vosk-model-en-us-0.22/vosk-model-en-us-0.22\"\n",
    "\n",
    "if not os.path.exists(model_path):\n",
    "    print(f\"Please download the model from https://alphacephei.com/vosk/models and unpack as {model_path}\")\n",
    "    sys.exit()\n",
    "\n",
    "print(f\"Reading your vosk model '{model_path}'...\")\n",
    "model = Model(model_path)\n",
    "print(f\"'{model_path}' model was successfully read\")"
   ]
  },
  {
   "cell_type": "code",
   "execution_count": 3,
   "metadata": {},
   "outputs": [],
   "source": [
    "# name of the audio file to recognize\n",
    "audio_filename = \"./audio/output.wav\"\n",
    "# name of the text file to write recognized text\n",
    "text_filename = \"./audio/speech_recognition_systems_vosk_with_timestamps.txt\"\n",
    "video_filename = \"./video/sample.mp4\""
   ]
  },
  {
   "attachments": {},
   "cell_type": "markdown",
   "metadata": {},
   "source": [
    "ffmpeg -i sample.wav -acodec pcm_s16le -ac 1 -ar 8000 output.wav"
   ]
  },
  {
   "cell_type": "code",
   "execution_count": null,
   "metadata": {},
   "outputs": [],
   "source": [
    "# #NEED TO WORK ON THIS \n",
    "# import subprocess\n",
    "\n",
    "# command = \"ffmpeg -i \"+video_filename+\" -ab 160k -ac 2 -ar 44100 -vn \"+audio_filename\n",
    "\n",
    "# os.system(command)"
   ]
  },
  {
   "cell_type": "code",
   "execution_count": 4,
   "metadata": {},
   "outputs": [
    {
     "name": "stdout",
     "output_type": "stream",
     "text": [
      "Reading your file './audio/output.wav'...\n",
      "'./audio/output.wav' file was successfully read\n"
     ]
    }
   ],
   "source": [
    "if not os.path.exists(audio_filename):\n",
    "    print(f\"File '{audio_filename}' doesn't exist\")\n",
    "    sys.exit()\n",
    "\n",
    "print(f\"Reading your file '{audio_filename}'...\")\n",
    "wf = wave.open(audio_filename, \"rb\")\n",
    "print(f\"'{audio_filename}' file was successfully read\")"
   ]
  },
  {
   "cell_type": "code",
   "execution_count": 5,
   "metadata": {},
   "outputs": [],
   "source": [
    " # check if audio is mono wav\n",
    "if wf.getnchannels() != 1 or wf.getsampwidth() != 2 or wf.getcomptype() != \"NONE\":\n",
    "    print(\"Audio file must be WAV format mono PCM.\")\n",
    "    sys.exit()"
   ]
  },
  {
   "cell_type": "code",
   "execution_count": 6,
   "metadata": {},
   "outputs": [],
   "source": [
    "rec = KaldiRecognizer(model, wf.getframerate())\n",
    "rec.SetWords(True)"
   ]
  },
  {
   "cell_type": "code",
   "execution_count": 7,
   "metadata": {},
   "outputs": [],
   "source": [
    "results = []\n",
    "\n",
    "# recognize speech using vosk model\n",
    "while True:\n",
    "    data = wf.readframes(8000)\n",
    "    if len(data) == 0:\n",
    "        break\n",
    "    if rec.AcceptWaveform(data):\n",
    "        part_result = json.loads(rec.Result())\n",
    "        results.append(part_result)\n",
    "\n",
    "part_result = json.loads(rec.FinalResult())\n",
    "results.append(part_result)"
   ]
  },
  {
   "cell_type": "code",
   "execution_count": 8,
   "metadata": {},
   "outputs": [
    {
     "data": {
      "text/plain": [
       "[{'result': [{'conf': 1.0, 'end': 1.23, 'start': 0.69, 'word': 'begin'}],\n",
       "  'text': 'begin'},\n",
       " {'result': [{'conf': 1.0, 'end': 2.91, 'start': 2.58, 'word': 'check'},\n",
       "   {'conf': 1.0, 'end': 3.21, 'start': 2.91, 'word': 'check'},\n",
       "   {'conf': 1.0, 'end': 3.48, 'start': 3.21, 'word': 'one'},\n",
       "   {'conf': 1.0, 'end': 3.69, 'start': 3.48, 'word': 'two'},\n",
       "   {'conf': 1.0, 'end': 4.11, 'start': 3.69, 'word': 'three'},\n",
       "   {'conf': 1.0, 'end': 5.64, 'start': 5.25, 'word': 'next'},\n",
       "   {'conf': 1.0, 'end': 6.21, 'start': 5.64, 'word': 'question'},\n",
       "   {'conf': 0.957199, 'end': 6.81, 'start': 6.45, 'word': 'check'},\n",
       "   {'conf': 0.893365, 'end': 7.38, 'start': 7.08, 'word': 'these'},\n",
       "   {'conf': 0.518394, 'end': 7.65, 'start': 7.41, 'word': 'for'},\n",
       "   {'conf': 0.85234, 'end': 8.19, 'start': 7.65, 'word': 'five'}],\n",
       "  'text': 'check check one two three next question check these for five'},\n",
       " {'result': [{'conf': 1.0, 'end': 10.47, 'start': 10.05, 'word': 'six'},\n",
       "   {'conf': 1.0, 'end': 10.83, 'start': 10.47, 'word': 'seven'},\n",
       "   {'conf': 1.0, 'end': 11.28, 'start': 10.83, 'word': 'eight'}],\n",
       "  'text': 'six seven eight'},\n",
       " {'result': [{'conf': 1.0, 'end': 13.05, 'start': 12.66, 'word': 'next'},\n",
       "   {'conf': 1.0, 'end': 13.56, 'start': 13.05, 'word': 'question'}],\n",
       "  'text': 'next question'},\n",
       " {'result': [{'conf': 0.663591, 'end': 16.26, 'start': 15.9, 'word': 'check'},\n",
       "   {'conf': 1.0, 'end': 17.46, 'start': 16.71, 'word': 'seven'},\n",
       "   {'conf': 1.0, 'end': 17.85, 'start': 17.49, 'word': 'one'},\n",
       "   {'conf': 1.0, 'end': 18.15, 'start': 17.85, 'word': 'one'},\n",
       "   {'conf': 1.0, 'end': 19.44, 'start': 19.02, 'word': 'eleven'},\n",
       "   {'conf': 1.0, 'end': 19.74, 'start': 19.44, 'word': 'twelve'},\n",
       "   {'conf': 1.0, 'end': 20.25, 'start': 19.74, 'word': 'thirteen'}],\n",
       "  'text': 'check seven one one eleven twelve thirteen'},\n",
       " {'result': [{'conf': 1.0, 'end': 21.81, 'start': 21.45, 'word': 'next'},\n",
       "   {'conf': 1.0, 'end': 22.35, 'start': 21.81, 'word': 'question'}],\n",
       "  'text': 'next question'},\n",
       " {'result': [{'conf': 1.0, 'end': 24.66, 'start': 24.27, 'word': 'check'},\n",
       "   {'conf': 1.0, 'end': 24.99, 'start': 24.66, 'word': 'check'},\n",
       "   {'conf': 1.0, 'end': 25.32, 'start': 24.99, 'word': 'check'}],\n",
       "  'text': 'check check check'},\n",
       " {'result': [{'conf': 1.0, 'end': 27.18, 'start': 26.94, 'word': 'three'},\n",
       "   {'conf': 1.0, 'end': 27.42, 'start': 27.18, 'word': 'four'},\n",
       "   {'conf': 1.0, 'end': 27.81, 'start': 27.42, 'word': 'five'},\n",
       "   {'conf': 0.538142, 'end': 29.01, 'start': 28.47, 'word': 'last'}],\n",
       "  'text': 'three four five last'},\n",
       " {'text': ''}]"
      ]
     },
     "execution_count": 8,
     "metadata": {},
     "output_type": "execute_result"
    }
   ],
   "source": [
    "results"
   ]
  },
  {
   "cell_type": "code",
   "execution_count": 9,
   "metadata": {},
   "outputs": [],
   "source": [
    " # convert list of JSON dictionaries to list of 'Word' objects\n",
    "\n",
    "list_of_words = []\n",
    "for sentence in results:\n",
    "    if len(sentence) == 1:\n",
    "        # sometimes there are bugs in recognition \n",
    "        # and it returns an empty dictionary\n",
    "        # {'text': ''}\n",
    "        continue\n",
    "    for obj in sentence['result']:\n",
    "        w = Word.Word(obj)  # create custom Word object\n",
    "        list_of_words.append(w)  # and add it to list"
   ]
  },
  {
   "cell_type": "code",
   "execution_count": 10,
   "metadata": {},
   "outputs": [
    {
     "name": "stdout",
     "output_type": "stream",
     "text": [
      "next                 from 5.25 sec to 5.64 sec, confidence is 100.00%, idx: 7\n",
      "next                 from 12.66 sec to 13.05 sec, confidence is 100.00%, idx: 16\n",
      "next                 from 21.45 sec to 21.81 sec, confidence is 100.00%, idx: 25\n"
     ]
    }
   ],
   "source": [
    "nextTimestamps = []\n",
    "\n",
    "for idx, word in enumerate(list_of_words):\n",
    "    if word.word == \"next\" and list_of_words[idx+1].word==\"question\":\n",
    "        nextTimestamps.append(word)\n",
    "        print(word.to_string())"
   ]
  },
  {
   "cell_type": "code",
   "execution_count": 11,
   "metadata": {},
   "outputs": [
    {
     "name": "stdout",
     "output_type": "stream",
     "text": [
      "\tVosk thinks you said:\n",
      "\n",
      "begin check check one two three next question check these for five six seven eight next question check seven one one eleven twelve thirteen next question check check check three four five last  \n"
     ]
    }
   ],
   "source": [
    " # forming a final string from the words\n",
    "text = ''\n",
    "for r in results:\n",
    "    text += r['text'] + ' '\n",
    "\n",
    "print(\"\\tVosk thinks you said:\\n\")\n",
    "print(text)"
   ]
  },
  {
   "attachments": {},
   "cell_type": "markdown",
   "metadata": {},
   "source": [
    "#Cutting the Video"
   ]
  },
  {
   "cell_type": "code",
   "execution_count": 12,
   "metadata": {},
   "outputs": [],
   "source": [
    "from moviepy.editor import *"
   ]
  },
  {
   "cell_type": "code",
   "execution_count": 13,
   "metadata": {},
   "outputs": [
    {
     "name": "stdout",
     "output_type": "stream",
     "text": [
      "Moviepy - Building video ./output/output0.mp4.\n",
      "MoviePy - Writing audio in output0TEMP_MPY_wvf_snd.mp3\n"
     ]
    },
    {
     "name": "stderr",
     "output_type": "stream",
     "text": [
      "                                                                  \r"
     ]
    },
    {
     "name": "stdout",
     "output_type": "stream",
     "text": [
      "MoviePy - Done.\n",
      "Moviepy - Writing video ./output/output0.mp4\n",
      "\n"
     ]
    },
    {
     "name": "stderr",
     "output_type": "stream",
     "text": [
      "                                                              \r"
     ]
    },
    {
     "name": "stdout",
     "output_type": "stream",
     "text": [
      "Moviepy - Done !\n",
      "Moviepy - video ready ./output/output0.mp4\n",
      "Moviepy - Building video ./output/output1.mp4.\n",
      "MoviePy - Writing audio in output1TEMP_MPY_wvf_snd.mp3\n"
     ]
    },
    {
     "name": "stderr",
     "output_type": "stream",
     "text": [
      "                                                                    \r"
     ]
    },
    {
     "name": "stdout",
     "output_type": "stream",
     "text": [
      "MoviePy - Done.\n",
      "Moviepy - Writing video ./output/output1.mp4\n",
      "\n"
     ]
    },
    {
     "name": "stderr",
     "output_type": "stream",
     "text": [
      "                                                              \r"
     ]
    },
    {
     "name": "stdout",
     "output_type": "stream",
     "text": [
      "Moviepy - Done !\n",
      "Moviepy - video ready ./output/output1.mp4\n",
      "Moviepy - Building video ./output/output2.mp4.\n",
      "MoviePy - Writing audio in output2TEMP_MPY_wvf_snd.mp3\n"
     ]
    },
    {
     "name": "stderr",
     "output_type": "stream",
     "text": [
      "                                                                  \r"
     ]
    },
    {
     "name": "stdout",
     "output_type": "stream",
     "text": [
      "MoviePy - Done.\n",
      "Moviepy - Writing video ./output/output2.mp4\n",
      "\n"
     ]
    },
    {
     "name": "stderr",
     "output_type": "stream",
     "text": [
      "                                                              \r"
     ]
    },
    {
     "name": "stdout",
     "output_type": "stream",
     "text": [
      "Moviepy - Done !\n",
      "Moviepy - video ready ./output/output2.mp4\n",
      "Moviepy - Building video ./output/output3.mp4.\n",
      "MoviePy - Writing audio in output3TEMP_MPY_wvf_snd.mp3\n"
     ]
    },
    {
     "name": "stderr",
     "output_type": "stream",
     "text": [
      "                                                                  \r"
     ]
    },
    {
     "name": "stdout",
     "output_type": "stream",
     "text": [
      "MoviePy - Done.\n",
      "Moviepy - Writing video ./output/output3.mp4\n",
      "\n"
     ]
    },
    {
     "name": "stderr",
     "output_type": "stream",
     "text": [
      "                                                              \r"
     ]
    },
    {
     "name": "stdout",
     "output_type": "stream",
     "text": [
      "Moviepy - Done !\n",
      "Moviepy - video ready ./output/output3.mp4\n"
     ]
    }
   ],
   "source": [
    "clip = VideoFileClip(video_filename)\n",
    "# clip1 = clip.subclip(0,5)\n",
    "# clip1.write_videofile(\"outputSample.mp4\")\n",
    "clipNum = 0\n",
    "\n",
    "clip1 = clip.subclip(0, nextTimestamps[0].end)\n",
    "clip1.write_videofile(\"./output/output\"+str(clipNum)+\".mp4\")\n",
    "clipNum+=1\n",
    "\n",
    "for i in range(len(nextTimestamps)):\n",
    "    clip = VideoFileClip(video_filename)\n",
    "    if i != len(nextTimestamps)-1:\n",
    "        clip1 = clip.subclip(nextTimestamps[i].start, nextTimestamps[i+1].start)\n",
    "        clip1.write_videofile(\"./output/output\"+str(clipNum)+\".mp4\")\n",
    "        clipNum+=1\n",
    "    else:\n",
    "        clip1 = clip.subclip(nextTimestamps[i].start)\n",
    "        clip1.write_videofile(\"./output/output\"+str(clipNum)+\".mp4\")\n",
    "        clipNum+=1"
   ]
  }
 ],
 "metadata": {
  "kernelspec": {
   "display_name": "Python 3",
   "language": "python",
   "name": "python3"
  },
  "language_info": {
   "codemirror_mode": {
    "name": "ipython",
    "version": 3
   },
   "file_extension": ".py",
   "mimetype": "text/x-python",
   "name": "python",
   "nbconvert_exporter": "python",
   "pygments_lexer": "ipython3",
   "version": "3.10.5"
  },
  "orig_nbformat": 4
 },
 "nbformat": 4,
 "nbformat_minor": 2
}
