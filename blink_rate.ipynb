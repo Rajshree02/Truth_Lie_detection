{
 "cells": [
  {
   "cell_type": "code",
   "execution_count": null,
   "id": "cb54f793",
   "metadata": {},
   "outputs": [],
   "source": [
    "!pip install mediapipe opencv-python "
   ]
  },
  {
   "cell_type": "code",
   "execution_count": null,
   "id": "dfaa8b86",
   "metadata": {},
   "outputs": [],
   "source": [
    "import mediapipe as mp\n",
    "import cv2\n",
    "import numpy as np\n",
    "import uuid \n",
    "import os\n",
    "import math\n",
    "import skimage.io as imageio"
   ]
  },
  {
   "cell_type": "code",
   "execution_count": null,
   "id": "0d702e88",
   "metadata": {},
   "outputs": [],
   "source": [
    "cv2.__version__"
   ]
  },
  {
   "cell_type": "code",
   "execution_count": 4,
   "id": "aff66d28",
   "metadata": {},
   "outputs": [],
   "source": [
    "def get_aspect_ratio(top, bottom, right, left):\n",
    "  height = dist.euclidean([top.x, top.y], [bottom.x, bottom.y])\n",
    "  width = dist.euclidean([right.x, right.y], [left.x, left.y])\n",
    "  return height / width"
   ]
  },
  {
   "cell_type": "code",
   "execution_count": null,
   "id": "70213796",
   "metadata": {},
   "outputs": [],
   "source": [
    "#function that will take calculate the aspect ratio and store in a list\n",
    "#global variables \n",
    "left_eye_ratio=[]\n",
    "right_eye_ratio=[]\n",
    "avg_eye_ratio=[]\n",
    "\n",
    "def get_blink_rate(path,number):\n",
    "  count=0\n",
    "  blinks=0\n",
    "  for i in os.listdir(path):#loop to traverse images\n",
    "    image = cv2.imread(path+str(count)+'.jpg')\n",
    "    count+=1\n",
    "    imageio.imshow(image)\n",
    "    mp_face_mesh = mp.solutions.face_mesh\n",
    "    face_mesh = mp_face_mesh.FaceMesh()\n",
    "    rgb_image = cv2.cvtColor(image, cv2.COLOR_BGR2RGB)\n",
    "    result = face_mesh.process(rgb_image)\n",
    "    height, width, _ = image.shape\n",
    "    for facial_landmarks in result.multi_face_landmarks:\n",
    "          #for right eye\n",
    "          pt1 = facial_landmarks.landmark[159]\n",
    "          pt2 = facial_landmarks.landmark[145]\n",
    "          pt3 = facial_landmarks.landmark[133]\n",
    "          pt4 = facial_landmarks.landmark[33]\n",
    "          rr=get_aspect_ratio(pt1,pt2,pt3,pt4)\n",
    "          right_eye_ratio.append(rr)\n",
    "          #for left eye\n",
    "          pt5 = facial_landmarks.landmark[386]\n",
    "          pt6 = facial_landmarks.landmark[374]\n",
    "          pt7 = facial_landmarks.landmark[263]\n",
    "          pt8 = facial_landmarks.landmark[362]\n",
    "          lr=get_aspect_ratio(pt5,pt6,pt7,pt8)\n",
    "          left_eye_ratio.append(lr)\n",
    "          avg_eye_ratio.append((lr+rr)/2)\n",
    "          if((lr+rr)/2<Global.aspectRatioThreshold):\n",
    "            blink+=1\n",
    "  blink_rate=blinks/(Global.numberOfFrames/30)\n",
    "  if(blink_rate>15):#30 is fps\n",
    "    return \"Increased Blinking\"\n",
    "  else:\n",
    "    return \"Normal Blinking\"\n"
   ]
  },
  {
   "cell_type": "markdown",
   "id": "aa1ddd31",
   "metadata": {},
   "source": [
    "# Analysis"
   ]
  },
  {
   "cell_type": "code",
   "execution_count": null,
   "id": "cedd4f81",
   "metadata": {},
   "outputs": [],
   "source": [
    "left_eye_ratio[1:10]"
   ]
  },
  {
   "cell_type": "code",
   "execution_count": null,
   "id": "a7cc492d",
   "metadata": {},
   "outputs": [],
   "source": [
    "right_eye_ratio[1:10]"
   ]
  },
  {
   "cell_type": "code",
   "execution_count": null,
   "id": "00f59d46",
   "metadata": {},
   "outputs": [],
   "source": [
    "avg_eye_ratio[1:10]"
   ]
  },
  {
   "cell_type": "code",
   "execution_count": null,
   "id": "4973a072",
   "metadata": {},
   "outputs": [],
   "source": [
    "import pandas as pd\n",
    "import matplotlib.pyplot as plt\n",
    "\n",
    "blink_data=pd.DataFrame(left_eye_ratio,columns=[\"lr\"])"
   ]
  },
  {
   "cell_type": "code",
   "execution_count": null,
   "id": "0774c5b6",
   "metadata": {},
   "outputs": [],
   "source": [
    "index=list(range(0,101))\n",
    "blink_data[\"index\"]=index"
   ]
  },
  {
   "cell_type": "code",
   "execution_count": null,
   "id": "ca01c577",
   "metadata": {},
   "outputs": [],
   "source": [
    "blink_data[\"rr\"]=right_eye_ratio\n",
    "blink_data['ar']=avg_eye_ratio"
   ]
  },
  {
   "cell_type": "code",
   "execution_count": null,
   "id": "e00ca97f",
   "metadata": {},
   "outputs": [],
   "source": [
    "blink_data[1:30]"
   ]
  },
  {
   "cell_type": "code",
   "execution_count": null,
   "id": "7a6fddcb",
   "metadata": {},
   "outputs": [],
   "source": [
    "blink_data.plot.scatter(x='index',y='ar')"
   ]
  }
 ],
 "metadata": {
  "kernelspec": {
   "display_name": "Python 3 (ipykernel)",
   "language": "python",
   "name": "python3"
  },
  "language_info": {
   "codemirror_mode": {
    "name": "ipython",
    "version": 3
   },
   "file_extension": ".py",
   "mimetype": "text/x-python",
   "name": "python",
   "nbconvert_exporter": "python",
   "pygments_lexer": "ipython3",
   "version": "3.11.0"
  }
 },
 "nbformat": 4,
 "nbformat_minor": 5
}
