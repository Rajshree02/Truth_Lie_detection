{
 "cells": [
  {
   "cell_type": "code",
   "execution_count": null,
   "id": "4966a6ab",
   "metadata": {},
   "outputs": [],
   "source": [
    "import pandas as pd\n",
    "import matplotlib.pyplot as plt\n",
    "import numpy as np\n",
    "import seaborn as sns\n",
    "import cv2\n",
    "from IPython.display import display\n",
    "from skimage.feature import hog\n",
    "from skimage import data,exposure\n",
    "from PIL import Image\n"
   ]
  },
  {
   "cell_type": "code",
   "execution_count": null,
   "id": "36e56311",
   "metadata": {},
   "outputs": [],
   "source": [
    "import skimage\n",
    "print(skimage.__version__)"
   ]
  },
  {
   "cell_type": "markdown",
   "id": "543c9650",
   "metadata": {},
   "source": [
    "### Truth Analysis"
   ]
  },
  {
   "cell_type": "code",
   "execution_count": null,
   "id": "f621b851",
   "metadata": {},
   "outputs": [],
   "source": [
    "\n"
   ]
  },
  {
   "cell_type": "code",
   "execution_count": null,
   "id": "65dc4657",
   "metadata": {},
   "outputs": [],
   "source": [
    "image = Image.open(\"E:/ML/KLEOS_Hackathon/mystuff/truth/face0.jpg\")\n",
    "\n",
    "width, height = image.size\n",
    "\n",
    "left =width/6\n",
    "top = height/4\n",
    "right =2*width/2.5\n",
    "bottom =  height / 2\n",
    "Timage=[]\n",
    "\n",
    "# saving images into list Timage\n",
    "for i in range(0,1420):\n",
    "    result = Image.open(\"E:/ML/KLEOS_Hackathon/mystuff/truth/face\"+str(i)+\".jpg\")\n",
    "    newsize=(144,144)\n",
    "    result=result.resize(newsize)\n",
    "    result = result.crop((left, top, right, bottom))\n",
    "    Timage.append(result)\n",
    "#     result=result.save(\"E:/ML/KLEOS_Hackathon/mystuff/gaze/frame\"+str(i)+\".jpg\")\n",
    "    \n"
   ]
  },
  {
   "cell_type": "code",
   "execution_count": null,
   "id": "a24b0ba2",
   "metadata": {},
   "outputs": [],
   "source": [
    "Timage[307]"
   ]
  },
  {
   "cell_type": "code",
   "execution_count": null,
   "id": "7204b09e",
   "metadata": {},
   "outputs": [],
   "source": [
    "## Hog features implementation\n",
    "hog_list1=[]\n",
    "hog_features1=[]\n",
    "for i in Timage:\n",
    "    fd,hog_image = hog(i,orientations=8,pixels_per_cell=(16,16),\n",
    "                      cells_per_block=(1,1),visualize=True,channel_axis=-1)\n",
    "    hog_list1.append(hog_image)\n",
    "    hog_features1.append(fd)\n",
    "    fig ,(ax1,ax2)=plt.subplots(1,2,sharex=True,sharey=True)\n",
    "    ax1.axis('off')\n",
    "    ax1.imshow(i, cmap=plt.cm.gray)\n",
    "    ax1.set_title('Input image')\n",
    "    # Rescale histogram for better display\n",
    "    hog_image_rescaled = exposure.rescale_intensity(hog_image, in_range=(0, 10))\n",
    "    ax2.axis('off')\n",
    "    ax2.imshow(hog_image_rescaled, cmap=plt.cm.gray)\n",
    "    ax2.set_title('Histogram of Oriented Gradients')\n",
    "    plt.show()\n"
   ]
  },
  {
   "cell_type": "code",
   "execution_count": null,
   "id": "179d022d",
   "metadata": {},
   "outputs": [],
   "source": []
  },
  {
   "cell_type": "code",
   "execution_count": null,
   "id": "b7988f1d",
   "metadata": {},
   "outputs": [],
   "source": [
    "plt.hist(hog_features1[1000]);\n",
    "plt.hist(hog_features1[10]);"
   ]
  },
  {
   "cell_type": "code",
   "execution_count": null,
   "id": "6aecf98e",
   "metadata": {},
   "outputs": [],
   "source": []
  },
  {
   "cell_type": "markdown",
   "id": "76ba5ee8",
   "metadata": {},
   "source": [
    "### Lie Analysis"
   ]
  },
  {
   "cell_type": "code",
   "execution_count": null,
   "id": "c9cdcdc4",
   "metadata": {},
   "outputs": [],
   "source": []
  },
  {
   "cell_type": "code",
   "execution_count": null,
   "id": "cd7368db",
   "metadata": {},
   "outputs": [],
   "source": [
    "image = Image.open(\"E:/ML/KLEOS_Hackathon/mystuff/lie/face0.jpg\")\n",
    "\n",
    "width, height = image.size\n",
    "\n",
    "left =width/6\n",
    "top = height/4\n",
    "right =2*width/2.5\n",
    "bottom =  height / 2\n",
    "Timage1=[]\n",
    "\n",
    "\n",
    "for i in range(0,587):\n",
    "    result = Image.open(\"E:/ML/KLEOS_Hackathon/mystuff/lie/face\"+str(i)+\".jpg\")\n",
    "    newsize=(144,144)\n",
    "    result=result.resize(newsize)\n",
    "    result = result.crop((left, top, right, bottom))\n",
    "    Timage1.append(result)\n",
    "#     result=result.save(\"E:/ML/KLEOS_Hackathon/mystuff/lie_gaze/frame\"+str(i)+\".jpg\")\n",
    "    \n"
   ]
  },
  {
   "cell_type": "code",
   "execution_count": null,
   "id": "140feea1",
   "metadata": {},
   "outputs": [],
   "source": [
    "Timage1[307]"
   ]
  },
  {
   "cell_type": "code",
   "execution_count": null,
   "id": "2bafa2a7",
   "metadata": {},
   "outputs": [],
   "source": [
    "hog_list=[]\n",
    "hog_features=[]\n",
    "for i in Timage1:\n",
    "    fd,hog_image = hog(i,orientations=8,pixels_per_cell=(16,16),\n",
    "                      cells_per_block=(1,1),visualize=True,channel_axis=-1)\n",
    "    hog_list.append(hog_image)\n",
    "    hog_features.append(fd)\n",
    "    fig ,(ax1,ax2)=plt.subplots(1,2,sharex=True,sharey=True)\n",
    "    ax1.axis('off')\n",
    "    ax1.imshow(i, cmap=plt.cm.gray)\n",
    "    ax1.set_title('Input image')\n",
    "    # Rescale histogram for better display\n",
    "    hog_image_rescaled = exposure.rescale_intensity(hog_image, in_range=(0, 10))\n",
    "    ax2.axis('off')\n",
    "    ax2.imshow(hog_image_rescaled, cmap=plt.cm.gray)\n",
    "    ax2.set_title('Histogram of Oriented Gradients')\n",
    "    plt.show()\n"
   ]
  },
  {
   "cell_type": "code",
   "execution_count": null,
   "id": "9ded25e3",
   "metadata": {
    "scrolled": true
   },
   "outputs": [],
   "source": [
    "plt.hist(hog_features[100]);\n",
    "plt.hist(hog_features[10]);"
   ]
  },
  {
   "cell_type": "code",
   "execution_count": null,
   "id": "82694797",
   "metadata": {},
   "outputs": [],
   "source": [
    "plt.hist(hog_features1[1000]);\n",
    "plt.hist(hog_features[10]);"
   ]
  },
  {
   "cell_type": "code",
   "execution_count": null,
   "id": "2df425e1",
   "metadata": {},
   "outputs": [],
   "source": [
    "### As no significant change was observed so trying on lips\n"
   ]
  }
 ],
 "metadata": {
  "kernelspec": {
   "display_name": "Python 3 (ipykernel)",
   "language": "python",
   "name": "python3"
  },
  "language_info": {
   "codemirror_mode": {
    "name": "ipython",
    "version": 3
   },
   "file_extension": ".py",
   "mimetype": "text/x-python",
   "name": "python",
   "nbconvert_exporter": "python",
   "pygments_lexer": "ipython3",
   "version": "3.10.6"
  }
 },
 "nbformat": 4,
 "nbformat_minor": 5
}
